{
 "cells": [
  {
   "cell_type": "code",
   "execution_count": 1,
   "metadata": {},
   "outputs": [
    {
     "data": {
      "text/plain": [
       "'c:\\\\Users\\\\Asus\\\\Desktop\\\\Krish Naik MLOps Course\\\\SayGenix AI Technologies\\\\Predict_Flat_Rent_Dhaka\\\\research'"
      ]
     },
     "execution_count": 1,
     "metadata": {},
     "output_type": "execute_result"
    }
   ],
   "source": [
    "%pwd"
   ]
  },
  {
   "cell_type": "code",
   "execution_count": 2,
   "metadata": {},
   "outputs": [
    {
     "data": {
      "text/plain": [
       "'c:\\\\Users\\\\Asus\\\\Desktop\\\\Krish Naik MLOps Course\\\\SayGenix AI Technologies\\\\Predict_Flat_Rent_Dhaka'"
      ]
     },
     "execution_count": 2,
     "metadata": {},
     "output_type": "execute_result"
    }
   ],
   "source": [
    "import os\n",
    "os.chdir(\"../\")\n",
    "%pwd"
   ]
  },
  {
   "cell_type": "code",
   "execution_count": 3,
   "metadata": {},
   "outputs": [],
   "source": [
    "# Configuration\n",
    "\n",
    "from pathlib import Path\n",
    "\n",
    "from src.utils.common import read_yml\n",
    "\n",
    "\n",
    "class ConfigurationManager:\n",
    "    def __init__(self, config_filepath):\n",
    "        self.config = read_yml(config_filepath)\n",
    "        \n",
    "        # create artifacts root directory\n",
    "        artifacts_root = self.config.get(\"artifacts_root\", \"artifacts\")\n",
    "        Path(artifacts_root).mkdir(parents=True, exist_ok=True)\n",
    "        \n",
    "    def get_data_ingestion_config(self):\n",
    "        ingestion_config = self.config.get(\"data_ingestion\")\n",
    "        \n",
    "        return {\n",
    "            \"root_dir\": Path(ingestion_config.get(\"root_dir\")), \n",
    "            \"ingested_data_file\": Path(ingestion_config.get(\"ingested_data_file\"))\n",
    "            }"
   ]
  },
  {
   "cell_type": "code",
   "execution_count": null,
   "metadata": {},
   "outputs": [],
   "source": [
    "# Component\n",
    "from pymongo.mongo_client import MongoClient\n",
    "import pandas as pd\n",
    "from dotenv import load_dotenv\n",
    "\n",
    "load_dotenv()\n",
    "\n",
    "class DataIngestion:\n",
    "    def __init__(self, data_ingestion_config):\n",
    "        self.data_ingestion_config = data_ingestion_config\n",
    "        \n",
    "        # create ingestion artifacts root dir\n",
    "        Path(self.data_ingestion_config.get(\"root_dir\")).mkdir(parents=True, exist_ok=True)\n",
    "        \n",
    "    def ingest_data(self):\n",
    "        mongodb_uri = os.getenv(\"MONGODB_URI\")\n",
    "        database_name = os.getenv(\"DATABASE\")\n",
    "        collection_name = os.getenv(\"COLLECTION\")\n",
    "        \n",
    "        client = MongoClient(mongodb_uri)\n",
    "        db = client[database_name]\n",
    "        collection = db[collection_name]\n",
    "        \n",
    "        try:\n",
    "            data= collection.find()\n",
    "            df = pd.DataFrame(list(data))\n",
    "            print(f\"loaded data from mongodb. dataframe shape: {df.shape}\")\n",
    "            \n",
    "            df_save_path = self.data_ingestion_config.get(\"ingested_data_file\")\n",
    "            \n",
    "            # make parent directory\n",
    "            Path(df_save_path).parent.mkdir(parents=True, exist_ok=True)\n",
    "            \n",
    "            # save dataframe\n",
    "            df.to_csv(df_save_path, index=False)\n",
    "            \n",
    "        except Exception as e:\n",
    "            raise e\n",
    "        "
   ]
  },
  {
   "cell_type": "code",
   "execution_count": null,
   "metadata": {},
   "outputs": [
    {
     "name": "stdout",
     "output_type": "stream",
     "text": [
      "loaded data from mongodb. dataframe shape: (28787, 6)\n"
     ]
    }
   ],
   "source": [
    "# pipeline:\n",
    "import sys\n",
    "from src.utils.constant import CONFIG_FILE_PATH\n",
    "from src.utils.exception import CustomException\n",
    "\n",
    "try:\n",
    "    config = ConfigurationManager(config_filepath = CONFIG_FILE_PATH)\n",
    "    ingestion_config = config.get_data_ingestion_config()\n",
    "    data_ingestion = DataIngestion(ingestion_config)\n",
    "    data_ingestion.ingest_data()\n",
    "    \n",
    "except Exception as e:\n",
    "    raise CustomException(str(e), sys)"
   ]
  },
  {
   "cell_type": "code",
   "execution_count": 6,
   "metadata": {},
   "outputs": [],
   "source": [
    "from src.utils.constant import CONFIG_FILE_PATH\n"
   ]
  },
  {
   "cell_type": "code",
   "execution_count": null,
   "metadata": {},
   "outputs": [],
   "source": []
  },
  {
   "cell_type": "code",
   "execution_count": null,
   "metadata": {},
   "outputs": [],
   "source": []
  },
  {
   "cell_type": "code",
   "execution_count": null,
   "metadata": {},
   "outputs": [],
   "source": []
  },
  {
   "cell_type": "code",
   "execution_count": null,
   "metadata": {},
   "outputs": [],
   "source": []
  }
 ],
 "metadata": {
  "kernelspec": {
   "display_name": ".venv",
   "language": "python",
   "name": "python3"
  },
  "language_info": {
   "codemirror_mode": {
    "name": "ipython",
    "version": 3
   },
   "file_extension": ".py",
   "mimetype": "text/x-python",
   "name": "python",
   "nbconvert_exporter": "python",
   "pygments_lexer": "ipython3",
   "version": "3.11.2"
  }
 },
 "nbformat": 4,
 "nbformat_minor": 2
}
